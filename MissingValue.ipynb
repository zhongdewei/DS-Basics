{
 "cells": [
  {
   "cell_type": "code",
   "execution_count": null,
   "metadata": {},
   "outputs": [],
   "source": [
    "import pandas as pd\n",
    "import numpy as np"
   ]
  },
  {
   "cell_type": "code",
   "execution_count": null,
   "metadata": {},
   "outputs": [],
   "source": [
    "train_data = pd.read_csv('train_data.csv', encoding='gbk') # 读取数据集\n",
    " \n",
    "filter_feature = ['id','label'] # 过滤无用的维度\n",
    "features = []\n",
    "for x in train_data.columns: # 取特征\n",
    "    if x not in filter_feature:\n",
    "        features.append(x)\n",
    " \n",
    "train_data_x = train_data[features] \n",
    "train_data_y = train_data['label']\n",
    "X_train, X_test, y_train, y_test = train_test_split(train_data_x, train_data_y, random_state=1) # 划分训练集、测试集"
   ]
  },
  {
   "cell_type": "code",
   "execution_count": null,
   "metadata": {},
   "outputs": [],
   "source": [
    "train_data.fillna(0, inplace=True) # 填充 0"
   ]
  },
  {
   "cell_type": "code",
   "execution_count": null,
   "metadata": {},
   "outputs": [],
   "source": [
    "train_data.fillna(train_data.mean(),inplace=True) # 填充均值"
   ]
  },
  {
   "cell_type": "code",
   "execution_count": null,
   "metadata": {},
   "outputs": [],
   "source": [
    "train_data.fillna(train_data.median(),inplace=True) # 填充中位数"
   ]
  },
  {
   "cell_type": "code",
   "execution_count": null,
   "metadata": {},
   "outputs": [],
   "source": [
    "train_data.fillna(train_data.mode(),inplace=True) # 填充众数,该数据缺失太多众数出现为nan的情况\n",
    "features_mode = {}\n",
    "for f in features:\n",
    "    print f,':', list(train_data[f].dropna().mode().values)\n",
    "    features_mode[f] = list(train_data[f].dropna().mode().values)[0]\n",
    "train_data.fillna(features_mode,inplace=True)"
   ]
  },
  {
   "cell_type": "code",
   "execution_count": null,
   "metadata": {},
   "outputs": [],
   "source": [
    "for f in features: # 插值法填充\n",
    "    train_data[f] = train_data[f].interpolate()\n",
    "    \n",
    "train_data.dropna(inplace=True)"
   ]
  },
  {
   "cell_type": "code",
   "execution_count": null,
   "metadata": {},
   "outputs": [],
   "source": [
    "from fancyimpute import KNN\n",
    " \n",
    "train_data_x = pd.DataFrame(KNN(k=6).fit_transform(train_data_x), columns=features)"
   ]
  },
  {
   "cell_type": "code",
   "execution_count": null,
   "metadata": {},
   "outputs": [],
   "source": [
    "\n",
    "new_label = 'SNP46'\n",
    "new_features = []\n",
    "for f in features:\n",
    "    if f != new_label:\n",
    "        new_features.append(f)\n",
    "        \n",
    "new_train_x = train_data[train_data[new_label].isnull()==False][new_features]\n",
    "new_train_x.fillna(new_train_x.mean(), inplace=True) # 其他列填充均值\n",
    "new_train_y = train_data[train_data[new_label].isnull()==False][new_label]\n",
    " \n",
    "new_predict_x = train_data[train_data[new_label].isnull()==True][new_features]\n",
    "new_predict_x.fillna(new_predict_x.mean(), inplace=True) # 其他列填充均值\n",
    "new_predict_y = train_data[train_data[new_label].isnull()==True][new_label]\n",
    " \n",
    "rfr = RandomForestRegressor(random_state=666, n_estimators=10, n_jobs=-1)\n",
    "rfr.fit(new_train_x, new_train_y)\n",
    "new_predict_y = rfr.predict(new_predict_x)\n",
    " \n",
    "new_predict_y = pd.DataFrame(new_predict_y, columns=[new_label], index=new_predict_x.index)\n",
    "new_predict_y = pd.concat([new_predict_x, new_predict_y], axis=1)\n",
    "new_train_y = pd.concat([new_train_x, new_train_y], axis=1)\n",
    "new_train_data = pd.concat([new_predict_y,new_train_y]) \n",
    " \n",
    "train_data_x = new_train_data[features]\n",
    "train_data_y = train_data['label']"
   ]
  },
  {
   "cell_type": "code",
   "execution_count": null,
   "metadata": {},
   "outputs": [],
   "source": [
    "def countF1(train, predict):\n",
    "    count = 0 # 统计预测的正确的正样本数\n",
    "    for i in range(len(train)):\n",
    "        if predict[i] == 1 and train[i] == 1:\n",
    "            count += 1\n",
    "    pre =  count * 1.0 / sum(predict) # 准确率\n",
    "    recall =  count * 1.0 / sum(train) # 召回率\n",
    "    return 2 * pre * recall / (pre + recall)"
   ]
  }
 ],
 "metadata": {
  "kernelspec": {
   "display_name": "Python 3",
   "language": "python",
   "name": "python3"
  },
  "language_info": {
   "codemirror_mode": {
    "name": "ipython",
    "version": 3
   },
   "file_extension": ".py",
   "mimetype": "text/x-python",
   "name": "python",
   "nbconvert_exporter": "python",
   "pygments_lexer": "ipython3",
   "version": "3.7.4"
  }
 },
 "nbformat": 4,
 "nbformat_minor": 2
}
