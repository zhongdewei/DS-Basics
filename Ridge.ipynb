{
 "cells": [
  {
   "cell_type": "code",
   "execution_count": 1,
   "metadata": {},
   "outputs": [],
   "source": [
    "import pandas as pd\n",
    "import numpy as np\n",
    "from sklearn import model_selection\n",
    "from sklearn.linear_model import Ridge,RidgeCV\n",
    "from sklearn.metrics import mean_squared_error"
   ]
  },
  {
   "cell_type": "code",
   "execution_count": null,
   "metadata": {},
   "outputs": [],
   "source": [
    "data=pd.read_excel(r’C:\\Users\\zhong\\diabetes.xlsx’)\n",
    "data=data.drop([‘AGE’,‘SEX’],axis=1)"
   ]
  },
  {
   "cell_type": "code",
   "execution_count": null,
   "metadata": {},
   "outputs": [],
   "source": [
    "predictors=data.columns[:-1]\n",
    "x_train,x_test,y_train,y_test=model_selection.train_test_split(data[predictors],data.Y,\n",
    "test_size=0.2,random_state=1234)"
   ]
  },
  {
   "cell_type": "code",
   "execution_count": null,
   "metadata": {},
   "outputs": [],
   "source": [
    "Lambdas=np.logspace(-5,2,200)\n",
    "ridge_cv=RidgeCV(alphas=Lambdas,normalize=True,scoring=‘neg_mean_squared_error’,cv=10)\n",
    "ridge_cv.fit(x_train,y_train)\n",
    "\n",
    "# Modeling by optimized lambda\n",
    "ridge=Ridge(alpha=ridge_cv.alpha_,normalize=True)\n",
    "ridge.fit(x_train,y_train)\n",
    "# print coefficeints\n",
    "print(pd.Series(index=[‘Intercept’]+x_train.columns.tolist(),\n",
    "data=[ridge.intercept_]+ridge.coef_.tolist()))\n",
    "\n",
    "# model evaluation\n",
    "ridge_pred=ridge.predict(x_test)\n",
    "# print MSE\n",
    "MSE=mean_squared_error(y_test,ridge_pred)\n",
    "print(MSE)"
   ]
  }
 ],
 "metadata": {
  "kernelspec": {
   "display_name": "Python 3",
   "language": "python",
   "name": "python3"
  },
  "language_info": {
   "codemirror_mode": {
    "name": "ipython",
    "version": 3
   },
   "file_extension": ".py",
   "mimetype": "text/x-python",
   "name": "python",
   "nbconvert_exporter": "python",
   "pygments_lexer": "ipython3",
   "version": "3.7.4"
  }
 },
 "nbformat": 4,
 "nbformat_minor": 2
}
